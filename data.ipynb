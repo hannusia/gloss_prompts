{
 "cells": [
  {
   "cell_type": "code",
   "execution_count": 1,
   "metadata": {},
   "outputs": [],
   "source": [
    "import pandas as pd"
   ]
  },
  {
   "cell_type": "code",
   "execution_count": 2,
   "metadata": {},
   "outputs": [],
   "source": [
    "df = pd.read_csv(\"input_data.csv\")"
   ]
  },
  {
   "cell_type": "code",
   "execution_count": 3,
   "metadata": {},
   "outputs": [
    {
     "data": {
      "text/html": [
       "<div>\n",
       "<style scoped>\n",
       "    .dataframe tbody tr th:only-of-type {\n",
       "        vertical-align: middle;\n",
       "    }\n",
       "\n",
       "    .dataframe tbody tr th {\n",
       "        vertical-align: top;\n",
       "    }\n",
       "\n",
       "    .dataframe thead th {\n",
       "        text-align: right;\n",
       "    }\n",
       "</style>\n",
       "<table border=\"1\" class=\"dataframe\">\n",
       "  <thead>\n",
       "    <tr style=\"text-align: right;\">\n",
       "      <th></th>\n",
       "      <th>lemma_en</th>\n",
       "      <th>lemma_ua</th>\n",
       "      <th>gloss</th>\n",
       "      <th>gloss_trans1</th>\n",
       "      <th>gloss_trans2</th>\n",
       "      <th>sum_old</th>\n",
       "      <th>sum_new</th>\n",
       "      <th>gloss_generated</th>\n",
       "    </tr>\n",
       "  </thead>\n",
       "  <tbody>\n",
       "    <tr>\n",
       "      <th>0</th>\n",
       "      <td>entity</td>\n",
       "      <td>сутність</td>\n",
       "      <td>that which is perceived or known or inferred t...</td>\n",
       "      <td>те, що сприймається, відоме або передбачається...</td>\n",
       "      <td>те, що сприймається або відоме чи припускаєтьс...</td>\n",
       "      <td>найголовніше, основне,\\nістотне в кому-, чому-...</td>\n",
       "      <td>NaN</td>\n",
       "      <td>NaN</td>\n",
       "    </tr>\n",
       "    <tr>\n",
       "      <th>1</th>\n",
       "      <td>dwarf</td>\n",
       "      <td>карлик</td>\n",
       "      <td>a plant or animal that is atypically small</td>\n",
       "      <td>рослина або тварина нетипово маленького розміру</td>\n",
       "      <td>рослина або тварина, яка має нетипово малий ро...</td>\n",
       "      <td>про дуже низький, дуже малий предмет</td>\n",
       "      <td>неприродно низька зростом людина, тварина, рос...</td>\n",
       "      <td>NaN</td>\n",
       "    </tr>\n",
       "    <tr>\n",
       "      <th>2</th>\n",
       "      <td>parent</td>\n",
       "      <td>батько</td>\n",
       "      <td>an organism (plant or animal) from which young...</td>\n",
       "      <td>організм (рослина або тварина), з якого отриму...</td>\n",
       "      <td>організм (рослина або тварина), від якого отри...</td>\n",
       "      <td>самець стосовно до свого потомства</td>\n",
       "      <td>чоловік стосовно до своїх дітей</td>\n",
       "      <td>NaN</td>\n",
       "    </tr>\n",
       "    <tr>\n",
       "      <th>3</th>\n",
       "      <td>time</td>\n",
       "      <td>час</td>\n",
       "      <td>the continuum of experience in which events pa...</td>\n",
       "      <td>континуум досвіду, в якому події проходять від...</td>\n",
       "      <td>континуум досвіду, в якому події переходять з ...</td>\n",
       "      <td>одна з основних об'єктивних\\nформ існування ма...</td>\n",
       "      <td>NaN</td>\n",
       "      <td>NaN</td>\n",
       "    </tr>\n",
       "    <tr>\n",
       "      <th>4</th>\n",
       "      <td>cell</td>\n",
       "      <td>клітина</td>\n",
       "      <td>(biology) the basic structural and functional ...</td>\n",
       "      <td>(біологія) основна структурна та функціональна...</td>\n",
       "      <td>(біологія) основна структурна та функціональна...</td>\n",
       "      <td>найпростіша одиниця будови\\nорганізму, яка скл...</td>\n",
       "      <td>NaN</td>\n",
       "      <td>NaN</td>\n",
       "    </tr>\n",
       "  </tbody>\n",
       "</table>\n",
       "</div>"
      ],
      "text/plain": [
       "  lemma_en  lemma_ua                                              gloss   \n",
       "0   entity  сутність  that which is perceived or known or inferred t...  \\\n",
       "1    dwarf    карлик         a plant or animal that is atypically small   \n",
       "2   parent    батько  an organism (plant or animal) from which young...   \n",
       "3     time       час  the continuum of experience in which events pa...   \n",
       "4     cell   клітина  (biology) the basic structural and functional ...   \n",
       "\n",
       "                                        gloss_trans1   \n",
       "0  те, що сприймається, відоме або передбачається...  \\\n",
       "1    рослина або тварина нетипово маленького розміру   \n",
       "2  організм (рослина або тварина), з якого отриму...   \n",
       "3  континуум досвіду, в якому події проходять від...   \n",
       "4  (біологія) основна структурна та функціональна...   \n",
       "\n",
       "                                        gloss_trans2   \n",
       "0  те, що сприймається або відоме чи припускаєтьс...  \\\n",
       "1  рослина або тварина, яка має нетипово малий ро...   \n",
       "2  організм (рослина або тварина), від якого отри...   \n",
       "3  континуум досвіду, в якому події переходять з ...   \n",
       "4  (біологія) основна структурна та функціональна...   \n",
       "\n",
       "                                             sum_old   \n",
       "0  найголовніше, основне,\\nістотне в кому-, чому-...  \\\n",
       "1               про дуже низький, дуже малий предмет   \n",
       "2                 самець стосовно до свого потомства   \n",
       "3  одна з основних об'єктивних\\nформ існування ма...   \n",
       "4  найпростіша одиниця будови\\nорганізму, яка скл...   \n",
       "\n",
       "                                             sum_new  gloss_generated  \n",
       "0                                                NaN              NaN  \n",
       "1  неприродно низька зростом людина, тварина, рос...              NaN  \n",
       "2                    чоловік стосовно до своїх дітей              NaN  \n",
       "3                                                NaN              NaN  \n",
       "4                                                NaN              NaN  "
      ]
     },
     "execution_count": 3,
     "metadata": {},
     "output_type": "execute_result"
    }
   ],
   "source": [
    "df.head()"
   ]
  },
  {
   "cell_type": "code",
   "execution_count": 5,
   "metadata": {},
   "outputs": [
    {
     "data": {
      "text/plain": [
       "'entity'"
      ]
     },
     "execution_count": 5,
     "metadata": {},
     "output_type": "execute_result"
    }
   ],
   "source": [
    "df.iloc[0][\"lemma_en\"]"
   ]
  }
 ],
 "metadata": {
  "kernelspec": {
   "display_name": "Python 3",
   "language": "python",
   "name": "python3"
  },
  "language_info": {
   "codemirror_mode": {
    "name": "ipython",
    "version": 3
   },
   "file_extension": ".py",
   "mimetype": "text/x-python",
   "name": "python",
   "nbconvert_exporter": "python",
   "pygments_lexer": "ipython3",
   "version": "3.11.6 (main, Nov 14 2023, 09:36:21) [GCC 13.2.1 20230801]"
  },
  "orig_nbformat": 4,
  "vscode": {
   "interpreter": {
    "hash": "767d51c1340bd893661ea55ea3124f6de3c7a262a8b4abca0554b478b1e2ff90"
   }
  }
 },
 "nbformat": 4,
 "nbformat_minor": 2
}
